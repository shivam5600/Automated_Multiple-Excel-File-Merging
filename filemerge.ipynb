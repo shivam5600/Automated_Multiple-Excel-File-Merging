{
 "cells": [
  {
   "cell_type": "markdown",
   "source": [
    "# Task:\r\n",
    "### Merging Multiple Excel files automatated code"
   ],
   "metadata": {}
  },
  {
   "cell_type": "code",
   "execution_count": 1,
   "source": [
    "import pandas as pd\r\n",
    "import numpy as np\r\n",
    "from pandas import ExcelWriter\r\n",
    "import glob\r\n",
    "import os\r\n",
    "\r\n",
    "\r\n",
    "#!pip install openpyxl\r\n",
    "from openpyxl import workbook"
   ],
   "outputs": [],
   "metadata": {}
  },
  {
   "cell_type": "markdown",
   "source": [
    "# 1. It will combine every sheets of every excel file in one workbook in multiple sheets\r\n"
   ],
   "metadata": {}
  },
  {
   "cell_type": "code",
   "execution_count": 3,
   "source": [
    "writer = ExcelWriter(\"Combined_sheets.xlsx\")\r\n",
    "\r\n",
    "for filename in glob.glob( #use your folder path which has all .xlsx files only ):\r\n",
    "    excel_file = pd.ExcelFile(filename)\r\n",
    "    (_, f_name) = os.path.split(filename)\r\n",
    "    (f_short_name, _) = os.path.splitext(f_name)\r\n",
    "    for sheet_name in excel_file.sheet_names:\r\n",
    "        df_excel = pd.read_excel(filename, sheet_name=sheet_name)\r\n",
    "        df_excel.to_excel(writer, f_short_name+'_'+sheet_name, index=False)\r\n",
    "\r\n",
    "writer.save()"
   ],
   "outputs": [],
   "metadata": {}
  },
  {
   "cell_type": "markdown",
   "source": [
    "# 2. It will combine all the sheets into one sheet"
   ],
   "metadata": {}
  },
  {
   "cell_type": "code",
   "execution_count": 5,
   "source": [
    "\r\n",
    "\r\n",
    "comined_file_path = os.path.abspath(#use your last rendered file path\") \r\n",
    "combined_file = os.listdir(comined_file_path)  \r\n",
    "df_toCombine = pd.DataFrame()\r\n",
    "for file in combined_file:\r\n",
    "    if file.endswith('Combined_sheets.xlsx'):\r\n",
    "        df_toCombine = pd.concat(pd.read_excel(file+\" \", sheet_name=None),axis=1, sort=False)\r\n",
    "df_toCombine.to_excel('combined_single_sheet.xlsx')"
   ],
   "outputs": [],
   "metadata": {}
  },
  {
   "cell_type": "markdown",
   "source": [
    "# 3. Adding a Column after each new excel file after merging"
   ],
   "metadata": {}
  },
  {
   "cell_type": "code",
   "execution_count": 6,
   "source": [
    "\r\n",
    "df = pd.DataFrame()\r\n",
    "df = pd.read_excel(\"combined_single_sheet.xlsx\")\r\n",
    "\r\n",
    "col = len(df.columns) - 2 \r\n",
    "for i in range(col,2,-2): \r\n",
    "    df.insert(i,'','',allow_duplicates=True)\r\n",
    "df.to_excel(\"final_workbook.xlsx\",index=False)"
   ],
   "outputs": [],
   "metadata": {}
  },
  {
   "cell_type": "code",
   "execution_count": 7,
   "source": [
    "print(\"Done and Thankyou\")"
   ],
   "outputs": [
    {
     "output_type": "stream",
     "name": "stdout",
     "text": [
      "Done and Thankyou\n"
     ]
    }
   ],
   "metadata": {}
  },
  {
   "cell_type": "code",
   "execution_count": null,
   "source": [],
   "outputs": [],
   "metadata": {}
  }
 ],
 "metadata": {
  "orig_nbformat": 4,
  "language_info": {
   "name": "python",
   "version": "3.8.10",
   "mimetype": "text/x-python",
   "codemirror_mode": {
    "name": "ipython",
    "version": 3
   },
   "pygments_lexer": "ipython3",
   "nbconvert_exporter": "python",
   "file_extension": ".py"
  },
  "kernelspec": {
   "name": "python3",
   "display_name": "Python 3.8.10 64-bit (windows store)"
  },
  "interpreter": {
   "hash": "2995f8ac6426a3ccd59ad0390d01f2c0910015cb666af755f33d4c34d8e8c12e"
  }
 },
 "nbformat": 4,
 "nbformat_minor": 2
}